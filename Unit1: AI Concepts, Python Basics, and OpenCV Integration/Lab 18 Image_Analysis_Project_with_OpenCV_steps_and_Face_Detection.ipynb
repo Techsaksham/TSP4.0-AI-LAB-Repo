{
 "cells": [
  {
   "attachments": {
    "image.png": {
     "image/png": "[encoded data removed]"
    }
   },
   "cell_type": "markdown",
   "metadata": {},
   "source": [
    "![image.png](attachment:image.png)"
   ]
  },
  {
   "cell_type": "markdown",
   "metadata": {
    "id": "RjKAZRJQc9gu"
   },
   "source": [
    "# Lab18:  Image Analysis Project with OpenCV Steps and Face Detection\n",
    "\n",
    "### Objective:\n",
    "The \"Image Analysis Project with OpenCV: Steps and Face Detection\" lab aims to provide learners with practical skills in image analysis using OpenCV, focusing on face detection. The lab covers essential concepts such as image preprocessing, feature extraction, and the step-by-step implementation of face detection algorithms. Learners will gain hands-on experience in loading and manipulating images, applying filters, and using OpenCV's face detection methods to identify and locate faces in images. By the end of the lab, learners will be proficient in conducting comprehensive image analysis and implementing face detection techniques, preparing them for advanced computer vision projects."
   ]
  },
  {
   "cell_type": "markdown",
   "metadata": {
    "id": "xWAqCs4RdEMc"
   },
   "source": [
    "#### Step 1: Setup and Installation\n",
    "Ensure you have OpenCV installed in your Python environment. You can install it using pip"
   ]
  },
  {
   "cell_type": "code",
   "execution_count": null,
   "metadata": {
    "id": "DsJnMtmuctb_"
   },
   "outputs": [],
   "source": [
    "pip install opencv-python\n"
   ]
  },
  {
   "cell_type": "markdown",
   "metadata": {
    "id": "u9LfBAMFdHps"
   },
   "source": [
    "#### Step 2: Import Libraries\n",
    "Import necessary libraries, including OpenCV and NumPy for array operations"
   ]
  },
  {
   "cell_type": "code",
   "execution_count": null,
   "metadata": {
    "id": "5i8AHy_LdGjm"
   },
   "outputs": [],
   "source": [
    "import cv2\n",
    "import numpy as np\n"
   ]
  },
  {
   "cell_type": "markdown",
   "metadata": {
    "id": "9HAQMfpadL9j"
   },
   "source": [
    "#### Step 3: Load an Image\n",
    "Load an image from a file using cv2.imread()"
   ]
  },
  {
   "cell_type": "code",
   "execution_count": null,
   "metadata": {
    "id": "vSKb84osdP6N"
   },
   "outputs": [],
   "source": [
    "img_path = 'path_to_your_image.jpg'\n",
    "img = cv2.imread(img_path)\n",
    "if img is None:\n",
    "    print(f'Error: Unable to load image from {img_path}')\n",
    "    exit()\n"
   ]
  },
  {
   "cell_type": "markdown",
   "metadata": {
    "id": "zXeAph4NdUiE"
   },
   "source": [
    "#### Step 4: Display the Original Image\n",
    "Display the loaded image using cv2.imshow() and wait for a key press to close the window"
   ]
  },
  {
   "cell_type": "code",
   "execution_count": null,
   "metadata": {
    "id": "HQp4HyHtdR9E"
   },
   "outputs": [],
   "source": [
    "cv2.imshow('Original Image', img)\n",
    "cv2.waitKey(0)\n",
    "cv2.destroyAllWindows()\n"
   ]
  },
  {
   "cell_type": "markdown",
   "metadata": {
    "id": "y-5PQbGKdY1k"
   },
   "source": [
    "#### Step 5: Preprocess the Image (Optional)\n",
    "Preprocess the image as needed for your analysis tasks. Example preprocessing steps include resizing, converting to grayscale, or applying filters"
   ]
  },
  {
   "cell_type": "code",
   "execution_count": null,
   "metadata": {
    "id": "_fuDQ2ZPdfLM"
   },
   "outputs": [],
   "source": [
    "# Resize the image\n",
    "resized_img = cv2.resize(img, (new_width, new_height))\n",
    "\n",
    "# Convert to grayscale\n",
    "gray_img = cv2.cvtColor(img, cv2.COLOR_BGR2GRAY)\n",
    "\n",
    "# Apply Gaussian blur\n",
    "blurred_img = cv2.GaussianBlur(gray_img, (kernel_size, kernel_size), sigma)\n"
   ]
  },
  {
   "cell_type": "markdown",
   "metadata": {
    "id": "ZrmrA3kzdg7V"
   },
   "source": [
    "#### Step 6: Perform Image Analysis Tasks\n",
    "Implement specific image analysis tasks based on your project requirements. Here are some common tasks\n",
    "\n",
    "\n",
    "#### Step 7: Display Results\n",
    "Display the results of your image analysis tasks using cv2.imshow() and optionally save them using cv2.imwrite()"
   ]
  },
  {
   "cell_type": "code",
   "execution_count": null,
   "metadata": {
    "id": "gnlI2UbPdjY2"
   },
   "outputs": [],
   "source": [
    "cv2.imshow('Processed Image', processed_img)\n",
    "cv2.waitKey(0)\n",
    "cv2.destroyAllWindows()\n",
    "\n",
    "# Save processed image\n",
    "cv2.imwrite('processed_image.jpg', processed_img)\n"
   ]
  },
  {
   "cell_type": "markdown",
   "metadata": {
    "id": "hyeIlnzmd3u-"
   },
   "source": [
    "### Face Detection"
   ]
  },
  {
   "cell_type": "code",
   "execution_count": null,
   "metadata": {
    "id": "1ht9MDPCd1p7"
   },
   "outputs": [],
   "source": [
    "import cv2\n",
    "\n",
    "# Load the image\n",
    "img_path = 'path_to_your_image.jpg'\n",
    "img = cv2.imread(img_path)\n",
    "if img is None:\n",
    "    print(f'Error: Unable to load image from {img_path}')\n",
    "    exit()\n",
    "\n",
    "# Load the pre-trained Haar cascade classifier for face detection\n",
    "face_cascade = cv2.CascadeClassifier(cv2.data.haarcascades + 'haarcascade_frontalface_default.xml')\n",
    "\n",
    "# Convert the image to grayscale\n",
    "gray_img = cv2.cvtColor(img, cv2.COLOR_BGR2GRAY)\n",
    "\n",
    "# Detect faces in the image\n",
    "faces = face_cascade.detectMultiScale(gray_img, scaleFactor=1.1, minNeighbors=5, minSize=(30, 30))\n",
    "\n",
    "# Draw rectangles around the detected faces\n",
    "for (x, y, w, h) in faces:\n",
    "    cv2.rectangle(img, (x, y), (x+w, y+h), (255, 0, 0), 2)\n",
    "\n",
    "# Display the image with rectangles around faces\n",
    "cv2.imshow('Detected Faces', img)\n",
    "cv2.waitKey(0)\n",
    "cv2.destroyAllWindows()\n",
    "\n",
    "# Optionally save the image with rectangles\n",
    "cv2.imwrite('detected_faces.jpg', img)\n"
   ]
  }
 ],
 "metadata": {
  "colab": {
   "provenance": []
  },
  "kernelspec": {
   "display_name": "Python 3 (ipykernel)",
   "language": "python",
   "name": "python3"
  },
  "language_info": {
   "codemirror_mode": {
    "name": "ipython",
    "version": 3
   },
   "file_extension": ".py",
   "mimetype": "text/x-python",
   "name": "python",
   "nbconvert_exporter": "python",
   "pygments_lexer": "ipython3",
   "version": "3.9.17"
  }
 },
 "nbformat": 4,
 "nbformat_minor": 1
}
